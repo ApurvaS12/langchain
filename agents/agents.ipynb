{
 "cells": [
  {
   "cell_type": "code",
   "execution_count": 2,
   "metadata": {},
   "outputs": [
    {
     "name": "stdout",
     "output_type": "stream",
     "text": [
      "Collecting arxiv\n",
      "  Downloading arxiv-2.1.0-py3-none-any.whl.metadata (6.1 kB)\n",
      "Collecting feedparser==6.0.10 (from arxiv)\n",
      "  Downloading feedparser-6.0.10-py3-none-any.whl.metadata (2.3 kB)\n",
      "Requirement already satisfied: requests==2.31.0 in c:\\users\\apurv\\langchain\\.venv\\lib\\site-packages (from arxiv) (2.31.0)\n",
      "Collecting sgmllib3k (from feedparser==6.0.10->arxiv)\n",
      "  Downloading sgmllib3k-1.0.0.tar.gz (5.8 kB)\n",
      "  Preparing metadata (setup.py): started\n",
      "  Preparing metadata (setup.py): finished with status 'done'\n",
      "Requirement already satisfied: charset-normalizer<4,>=2 in c:\\users\\apurv\\langchain\\.venv\\lib\\site-packages (from requests==2.31.0->arxiv) (3.3.2)\n",
      "Requirement already satisfied: idna<4,>=2.5 in c:\\users\\apurv\\langchain\\.venv\\lib\\site-packages (from requests==2.31.0->arxiv) (3.7)\n",
      "Requirement already satisfied: urllib3<3,>=1.21.1 in c:\\users\\apurv\\langchain\\.venv\\lib\\site-packages (from requests==2.31.0->arxiv) (2.2.1)\n",
      "Requirement already satisfied: certifi>=2017.4.17 in c:\\users\\apurv\\langchain\\.venv\\lib\\site-packages (from requests==2.31.0->arxiv) (2024.2.2)\n",
      "Downloading arxiv-2.1.0-py3-none-any.whl (11 kB)\n",
      "Downloading feedparser-6.0.10-py3-none-any.whl (81 kB)\n",
      "   ---------------------------------------- 0.0/81.1 kB ? eta -:--:--\n",
      "   ------------------------------ --------- 61.4/81.1 kB 1.6 MB/s eta 0:00:01\n",
      "   ---------------------------------------- 81.1/81.1 kB 1.5 MB/s eta 0:00:00\n",
      "Building wheels for collected packages: sgmllib3k\n",
      "  Building wheel for sgmllib3k (setup.py): started\n",
      "  Building wheel for sgmllib3k (setup.py): finished with status 'done'\n",
      "  Created wheel for sgmllib3k: filename=sgmllib3k-1.0.0-py3-none-any.whl size=6060 sha256=88623d5e96e7e63812e8ab72c1c3838bf338ffce97f3c908d25888b15d700902\n",
      "  Stored in directory: c:\\users\\apurv\\appdata\\local\\pip\\cache\\wheels\\03\\f5\\1a\\23761066dac1d0e8e683e5fdb27e12de53209d05a4a37e6246\n",
      "Successfully built sgmllib3k\n",
      "Installing collected packages: sgmllib3k, feedparser, arxiv\n",
      "Successfully installed arxiv-2.1.0 feedparser-6.0.10 sgmllib3k-1.0.0\n"
     ]
    }
   ],
   "source": [
    "!pip install arxiv"
   ]
  },
  {
   "cell_type": "code",
   "execution_count": 3,
   "metadata": {},
   "outputs": [],
   "source": [
    "from langchain_community.tools import WikipediaQueryRun\n",
    "from langchain_community.utilities import WikipediaAPIWrapper\n"
   ]
  },
  {
   "cell_type": "code",
   "execution_count": 9,
   "metadata": {},
   "outputs": [],
   "source": [
    "api_wrapper= WikipediaAPIWrapper(top_k_results=1, doc_content_chars_max=200)\n",
    "wiki = WikipediaQueryRun(api_wrapper=api_wrapper)\n"
   ]
  },
  {
   "cell_type": "code",
   "execution_count": 11,
   "metadata": {},
   "outputs": [
    {
     "data": {
      "text/plain": [
       "[Document(page_content='The Fool Tarot Card Meanings | Biddy Tarot                          Skip to main content Doors Open!Join the Biddy Tarot Certification Program Get Early Bird Pricing  Hit enter to search or ESC to closeClose Search         search  Menu     Free TrainingFree ReadingsLearnStart HereTarot Card MeaningsTarot 101Books & GuidesCoursesCommunityJoinLoginBlogPodcastShopGrow Your BizAboutMeet BrigitCareersReviewsContact & FAQDiversity PolicyLoginsearch Home > Major Arcana Tarot Card Meanings > The Fool Tarot Card MeaningsThe Fool Tarot Card Meanings Love this deck? Buy The Biddy Tarot Deck Now!The Fool KeywordsUPRIGHT: Beginnings, innocence, spontaneity, a free spiritREVERSED: Holding back, recklessness, risk-takingThe Fool DescriptionThe Fool is numbered 0 – the number of unlimited potential – and so does not have a specific place in the sequence of the Tarot cards. The Fool can be placed either at the beginning of the Major Arcana or at the end. The Major Arcana is often considered The', metadata={'source': 'https://biddytarot.com/tarot-card-meanings/major-arcana/fool/', 'title': 'The Fool Tarot Card Meanings | Biddy Tarot', 'description': 'Detailed Tarot card meaning for The Fool including upright and reversed card meanings. Access the Biddy Tarot Card Meanings database - an extensive Tarot resource.', 'language': 'en-US'}),\n",
       " Document(page_content='– and so does not have a specific place in the sequence of the Tarot cards. The Fool can be placed either at the beginning of the Major Arcana or at the end. The Major Arcana is often considered The Fool’s journey through life and as such, he is ever present and therefore needs no number.On The Fool Tarot card, a young man stands on the edge of a cliff, without a care in the world, as he sets out on a new adventure. He is gazing upwards toward the sky (and the Universe) and is seemingly unaware that he is about to skip off a precipice into the unknown. Over his shoulder rests a modest knapsack containing everything he needs – which isn’t much (let’s say he’s a minimalist). The white rose in his left hand represents his purity and innocence. And at his feet is a small white dog, representing loyalty and protection, that encourages him to charge forward and learn the lessons he came to learn. The mountains behind The Fool symbolize the challenges yet to come. They are forever present,', metadata={'source': 'https://biddytarot.com/tarot-card-meanings/major-arcana/fool/', 'title': 'The Fool Tarot Card Meanings | Biddy Tarot', 'description': 'Detailed Tarot card meaning for The Fool including upright and reversed card meanings. Access the Biddy Tarot Card Meanings database - an extensive Tarot resource.', 'language': 'en-US'}),\n",
       " Document(page_content='loyalty and protection, that encourages him to charge forward and learn the lessons he came to learn. The mountains behind The Fool symbolize the challenges yet to come. They are forever present, but The Fool doesn’t care about them right now; he’s more focused on starting his expedition.NOTE: The Tarot card meaning description is based on the Rider Waite cards.Wish You Had A Tarot Card Meaning Cheat Sheet?Get Your FREE Tarot Card Meanings Reference GuideAnd Avoid Getting Stuck When Trying To Remember The Card Meanings   The Fool UprightThe Fool is a card of new beginnings, opportunity and potential. Just like the young man, you are at the outset of your journey, standing at the cliff‘s edge, and about to take your first step into the unknown. Even though you don’t know exactly where you are going, you are being called to commit yourself and follow your heart, no matter how crazy this leap of faith might seem to you. Now is a time when you need to trust where the Universe is taking', metadata={'source': 'https://biddytarot.com/tarot-card-meanings/major-arcana/fool/', 'title': 'The Fool Tarot Card Meanings | Biddy Tarot', 'description': 'Detailed Tarot card meaning for The Fool including upright and reversed card meanings. Access the Biddy Tarot Card Meanings database - an extensive Tarot resource.', 'language': 'en-US'}),\n",
       " Document(page_content='are going, you are being called to commit yourself and follow your heart, no matter how crazy this leap of faith might seem to you. Now is a time when you need to trust where the Universe is taking you.As you undertake this new journey, The Fool encourages you to have an open, curious mind and a sense of excitement. Throw caution to the wind and be ready to embrace the unknown, leaving behind any fear, worry or anxiety about what may or may not happen. This is about new experiences, personal growth, development, and adventure.The time is NOW! Take that leap of faith, even if you do not feel 100% ready or equipped for what is coming (who knows what it could be?!). Seriously, what are you waiting for? Do you think you need to have everything mapped out before you can begin? No way! Not with The Fool. He ventures out on his journey with just his essential belongings – and now he invites you to do the same. You don’t need to wait for someone to give you the green light or hold off until', metadata={'source': 'https://biddytarot.com/tarot-card-meanings/major-arcana/fool/', 'title': 'The Fool Tarot Card Meanings | Biddy Tarot', 'description': 'Detailed Tarot card meaning for The Fool including upright and reversed card meanings. Access the Biddy Tarot Card Meanings database - an extensive Tarot resource.', 'language': 'en-US'}),\n",
       " Document(page_content='The Fool. He ventures out on his journey with just his essential belongings – and now he invites you to do the same. You don’t need to wait for someone to give you the green light or hold off until you have all the skills, tools and resources you think you might need. You are ready! If you’ve been watching for a sign, this is it!This is a time of great potential and opportunity for you right now. The world is your oyster, and anything can happen. Use your creative mind with a dash of spontaneity to make the most of this magical time and bring forth your new ideas in powerful ways.The Fool is your invitation to relax, play, and have fun. Treat life like one big experiment and feel yourself in the flow of whatever comes your way. This card asks you to embrace your beautiful, carefree spirit, allowing yourself to connect to the energy that surrounds you and flows through you. Tap into your fullest potential by stepping into a place of wonderment, curiosity and intrigue. Live life as', metadata={'source': 'https://biddytarot.com/tarot-card-meanings/major-arcana/fool/', 'title': 'The Fool Tarot Card Meanings | Biddy Tarot', 'description': 'Detailed Tarot card meaning for The Fool including upright and reversed card meanings. Access the Biddy Tarot Card Meanings database - an extensive Tarot resource.', 'language': 'en-US'}),\n",
       " Document(page_content='allowing yourself to connect to the energy that surrounds you and flows through you. Tap into your fullest potential by stepping into a place of wonderment, curiosity and intrigue. Live life as though you were a child once again. Laugh more, dance, and let your heart go free.This is an excellent card to meditate on if you are struggling with dread, worry or self-doubt in your life. The Fool is your guide, as someone who is daring and carefree. He is the embodiment of who you really are – your free spirit, your inner child, and your playful soul. Any time you experience fear, remember the essence of The Fool as he encourages you to acknowledge that fear and do it anyway! You never know what the future holds, but like The Fool, you must step into the unknown, trusting that the Universe will catch you and escort you along the way. Take a chance and see what happens.The Fool Reversed The Fool Reversed suggests that you have conceived of a new project but aren’t ready to ‘birth’ it into', metadata={'source': 'https://biddytarot.com/tarot-card-meanings/major-arcana/fool/', 'title': 'The Fool Tarot Card Meanings | Biddy Tarot', 'description': 'Detailed Tarot card meaning for The Fool including upright and reversed card meanings. Access the Biddy Tarot Card Meanings database - an extensive Tarot resource.', 'language': 'en-US'}),\n",
       " Document(page_content='catch you and escort you along the way. Take a chance and see what happens.The Fool Reversed The Fool Reversed suggests that you have conceived of a new project but aren’t ready to ‘birth’ it into the world just yet. You may worry that you are not fit or that you don’t have all the tools, skills and resources you need to make this project a success. Or perhaps you have a sense that the timing isn’t right. Something is holding you back, and you are preventing yourself from moving forward. You may choose to keep this new opportunity to yourself for now, or you might be ‘parking’ it until a better time.You may fear the unknown, wondering, ‘What am I getting myself into?’ As a result, you have come to a standstill, worried about taking any action where you don’t know the outcome. This often boils down to the need to control everything. Balance this out with knowing that the Universe has your back and you can take this step forward, even if you are unsure of exactly what will happen', metadata={'source': 'https://biddytarot.com/tarot-card-meanings/major-arcana/fool/', 'title': 'The Fool Tarot Card Meanings | Biddy Tarot', 'description': 'Detailed Tarot card meaning for The Fool including upright and reversed card meanings. Access the Biddy Tarot Card Meanings database - an extensive Tarot resource.', 'language': 'en-US'}),\n",
       " Document(page_content='boils down to the need to control everything. Balance this out with knowing that the Universe has your back and you can take this step forward, even if you are unsure of exactly what will happen next.On the flipside, The Fool Reversed can show that you are taking too many risks and acting recklessly. In your attempt to live ‘in the moment’ and be spontaneous and adventurous, you may do so in total disregard of the consequences of your actions and engaging in activities that put both yourself and others at risk. Look at the bigger picture and consider how you can keep the free spirit of The Fool without harming others.In light of the playful and fun energy of The Fool Upright, the reversal suggests you are exploring this spirit on a more personal and quiet level. For example, instead of letting down your hair and dancing up on stage, you are dancing in your bedroom like no-one is watching. Look at how you can bring more play into your daily life, even if you start out by doing it in', metadata={'source': 'https://biddytarot.com/tarot-card-meanings/major-arcana/fool/', 'title': 'The Fool Tarot Card Meanings | Biddy Tarot', 'description': 'Detailed Tarot card meaning for The Fool including upright and reversed card meanings. Access the Biddy Tarot Card Meanings database - an extensive Tarot resource.', 'language': 'en-US'}),\n",
       " Document(page_content=\"letting down your hair and dancing up on stage, you are dancing in your bedroom like no-one is watching. Look at how you can bring more play into your daily life, even if you start out by doing it in private.   Got questions? Or can't find what you’re looking for?   Contact Us EBOOKS + PRODUCTSThe Ultimate Guide to Tarot Card MeaningsIntuitive Tarot: 31 Days to Learn to Read Tarot Cards and Develop Your IntuitionBiddy Tarot PlannerBiddy Tarot CommunityBusiness CoachingCOURSES + TRAININGTarot 101Master the Tarot Card MeaningsRead Tarot With ConfidenceBiddy Tarot Certification Program21 Days to Start Getting Paid to Read TarotGrow Your Tarot Business OnlineRESOURCESTarot BasicsTarot Card MeaningsBlogPodcastFree Tarot ReadingsBiddy Tarot Certified Tarot ReadersBIDDY TAROTAboutCareersHelp CenterBiddy Tarot ReviewsOne Girl PartnershipDiversity PolicySponsorship & Gift PolicyFOLLOW US    Privacy and Terms.\\xa0 © 2024 Biddy Tarot. All Rights Reserved. All prices in USD. Tarot card images\", metadata={'source': 'https://biddytarot.com/tarot-card-meanings/major-arcana/fool/', 'title': 'The Fool Tarot Card Meanings | Biddy Tarot', 'description': 'Detailed Tarot card meaning for The Fool including upright and reversed card meanings. Access the Biddy Tarot Card Meanings database - an extensive Tarot resource.', 'language': 'en-US'}),\n",
       " Document(page_content='CenterBiddy Tarot ReviewsOne Girl PartnershipDiversity PolicySponsorship & Gift PolicyFOLLOW US    Privacy and Terms.\\xa0 © 2024 Biddy Tarot. All Rights Reserved. All prices in USD. Tarot card images courtesy of the Biddy Tarot Deck, Everyday Tarot, The Wild Unknown and Lumina Tarot.      Free TrainingFree ReadingsLearnStart HereTarot Card MeaningsTarot 101Books & GuidesCoursesCommunityJoinLoginBlogPodcastShopGrow Your BizAboutMeet BrigitCareersReviewsContact & FAQDiversity PolicyLoginDoors Open!Join the Biddy Tarot Certification Program Get Early Bird Pricing Soul MeditationsHarness the wisdom of the Major Arcana with 22 guided meditations. Here’s what you’ll get:20-minute guided meditations for each of the 22 Major Arcana cardsEasily downloadable visualizations that you can listen to on any device, anywhere life takes you150+ page Soul Meditations GuidebookPlus, Bonus Material:40-minute Fool’s Journey meditation + guidebook22 Creative Ways to Connect with the Major Arcana X  eBook:', metadata={'source': 'https://biddytarot.com/tarot-card-meanings/major-arcana/fool/', 'title': 'The Fool Tarot Card Meanings | Biddy Tarot', 'description': 'Detailed Tarot card meaning for The Fool including upright and reversed card meanings. Access the Biddy Tarot Card Meanings database - an extensive Tarot resource.', 'language': 'en-US'}),\n",
       " Document(page_content='any device, anywhere life takes you150+ page Soul Meditations GuidebookPlus, Bonus Material:40-minute Fool’s Journey meditation + guidebook22 Creative Ways to Connect with the Major Arcana X  eBook: Tarot Card Meanings WorkbookCreate a deeply intuitive and personal connection to the Tarot cards with your very own Tarot Card Meanings Workbook. Here’s what you’ll find inside the workbook:Guidance for how to uncover personal meanings for each of the Tarot CardsWorksheets for each card, with space to record personal keywords, Tarot card symbolism, upright and reversed meanings, and interpretations for love, work, career, finance, well-being and spiritualityImages of the 78 Rider-Waite Tarot cards to deepen your understanding of their symbolismPlus, Bonus:Blank Tarot Card Keyword Chart to create your very own quick-reference guide X  eBook: The Ultimate Guide to Tarot Card MeaningsHere’s what you’ll find inside for every card in the deck:Images and detailed descriptionsComprehensive', metadata={'source': 'https://biddytarot.com/tarot-card-meanings/major-arcana/fool/', 'title': 'The Fool Tarot Card Meanings | Biddy Tarot', 'description': 'Detailed Tarot card meaning for The Fool including upright and reversed card meanings. Access the Biddy Tarot Card Meanings database - an extensive Tarot resource.', 'language': 'en-US'}),\n",
       " Document(page_content='create your very own quick-reference guide X  eBook: The Ultimate Guide to Tarot Card MeaningsHere’s what you’ll find inside for every card in the deck:Images and detailed descriptionsComprehensive upright and reversed Tarot Card meaningsDeeper insights and meanings that speak to common life situations (relationships, career, work, finances, spirituality, personality, health, and well-being)Quick-reference keywords for upright and reversed meaningsJournal Prompts and quotes to broaden your perspectiveInterpretations for Tarot Card combinations to help you understand how different cards can be interpreted togetherPlus, these Bonus Chapters to expand your knowledge:A Quick-Start Guide to Tarot and NumerologyReading with Reversed Tarot CardsReading Tarot for Yourself X  Tarot 101Start doing deep, accurate readings TODAY with this step-by-step accelerated program for beginners.Here’s what you’ll discover inside Tarot 101:What Tarot really is (and how to confidently talk about it)How to', metadata={'source': 'https://biddytarot.com/tarot-card-meanings/major-arcana/fool/', 'title': 'The Fool Tarot Card Meanings | Biddy Tarot', 'description': 'Detailed Tarot card meaning for The Fool including upright and reversed card meanings. Access the Biddy Tarot Card Meanings database - an extensive Tarot resource.', 'language': 'en-US'}),\n",
       " Document(page_content='deep, accurate readings TODAY with this step-by-step accelerated program for beginners.Here’s what you’ll discover inside Tarot 101:What Tarot really is (and how to confidently talk about it)How to choose a Tarot deck you instantly connect withWhat to ask the cards (and what NOT to)How to quickly read any Tarot card, no memorization requiredHow to get clear, accurate guidance from the cards, every timeHow to read multiple cards together in a spread for detailed, meaningful insightsEasy and powerful spread examples that you can start using right awayLearn Tarot in 3 Easy Steps:Watch 10 bite-sized lessons to quickly learn how to read the cardsPractice and apply your new skills with fun activities at the end of each lessonDownload your Tarot 101 resources PDF to use as a reference anytime you need X  × Before you go, did you see your special offer?Show Me × Couldn’t Find A Time That Suits YOU?Register Your Details For Any Session And We’ll Send You The Replay Shortly After. × Sacred', metadata={'source': 'https://biddytarot.com/tarot-card-meanings/major-arcana/fool/', 'title': 'The Fool Tarot Card Meanings | Biddy Tarot', 'description': 'Detailed Tarot card meaning for The Fool including upright and reversed card meanings. Access the Biddy Tarot Card Meanings database - an extensive Tarot resource.', 'language': 'en-US'}),\n",
       " Document(page_content='you need X  × Before you go, did you see your special offer?Show Me × Couldn’t Find A Time That Suits YOU?Register Your Details For Any Session And We’ll Send You The Replay Shortly After. × Sacred Workshop Coming SoonFree Registration Opens on April 29Back to BiddyTarot.com ×  Learn the Card Meanings Contact Our Help Desk ×', metadata={'source': 'https://biddytarot.com/tarot-card-meanings/major-arcana/fool/', 'title': 'The Fool Tarot Card Meanings | Biddy Tarot', 'description': 'Detailed Tarot card meaning for The Fool including upright and reversed card meanings. Access the Biddy Tarot Card Meanings database - an extensive Tarot resource.', 'language': 'en-US'})]"
      ]
     },
     "execution_count": 11,
     "metadata": {},
     "output_type": "execute_result"
    }
   ],
   "source": [
    "from langchain_community.document_loaders import WebBaseLoader\n",
    "from langchain_community.vectorstores import FAISS\n",
    "from langchain_openai import OpenAIEmbeddings\n",
    "from langchain_text_splitters import RecursiveCharacterTextSplitter\n",
    "\n",
    "loader = WebBaseLoader(\"https://biddytarot.com/tarot-card-meanings/major-arcana/fool/\")\n",
    "docs= loader.load()\n",
    "documents= RecursiveCharacterTextSplitter(chunk_size=1000, chunk_overlap=200).split_documents(docs)\n",
    "documents"
   ]
  },
  {
   "cell_type": "code",
   "execution_count": 12,
   "metadata": {},
   "outputs": [
    {
     "data": {
      "text/plain": [
       "VectorStoreRetriever(tags=['FAISS', 'OpenAIEmbeddings'], vectorstore=<langchain_community.vectorstores.faiss.FAISS object at 0x0000020B7E9F8A10>)"
      ]
     },
     "execution_count": 12,
     "metadata": {},
     "output_type": "execute_result"
    }
   ],
   "source": [
    "vectordb = FAISS.from_documents(documents, OpenAIEmbeddings())\n",
    "retriever = vectordb.as_retriever()\n",
    "retriever"
   ]
  },
  {
   "cell_type": "code",
   "execution_count": 13,
   "metadata": {},
   "outputs": [],
   "source": [
    "from langchain.tools.retriever import create_retriever_tool\n",
    "retriever_tool = create_retriever_tool(retriever,\"fool_search\",\n",
    "\"Search about meaninng of the fool card. For any query about fool you must use this tool \")"
   ]
  },
  {
   "cell_type": "code",
   "execution_count": 14,
   "metadata": {},
   "outputs": [
    {
     "data": {
      "text/plain": [
       "'fool_search'"
      ]
     },
     "execution_count": 14,
     "metadata": {},
     "output_type": "execute_result"
    }
   ],
   "source": [
    "retriever_tool.name"
   ]
  },
  {
   "cell_type": "code",
   "execution_count": 15,
   "metadata": {},
   "outputs": [
    {
     "data": {
      "text/plain": [
       "'arxiv'"
      ]
     },
     "execution_count": 15,
     "metadata": {},
     "output_type": "execute_result"
    }
   ],
   "source": [
    "\n",
    "## Arxiv Tool\n",
    "from langchain_community.utilities import ArxivAPIWrapper\n",
    "from langchain_community.tools import ArxivQueryRun\n",
    "\n",
    "arxiv_wrapper=ArxivAPIWrapper(top_k_results=1, doc_content_chars_max=200)\n",
    "arxiv=ArxivQueryRun(api_wrapper=arxiv_wrapper)\n",
    "arxiv.name"
   ]
  },
  {
   "cell_type": "code",
   "execution_count": 25,
   "metadata": {},
   "outputs": [],
   "source": [
    "tools = [wiki,retriever_tool,arxiv]"
   ]
  },
  {
   "cell_type": "markdown",
   "metadata": {},
   "source": [
    "### Agents"
   ]
  },
  {
   "cell_type": "code",
   "execution_count": 18,
   "metadata": {},
   "outputs": [],
   "source": [
    "from dotenv import load_dotenv\n",
    "\n",
    "load_dotenv()\n",
    "import os\n",
    "os.environ['OPENAI_API_KEY']=os.getenv(\"OPENAI_API_KEY\")\n",
    "from langchain_openai import ChatOpenAI\n",
    "\n",
    "llm = ChatOpenAI(model=\"gpt-3.5-turbo-0125\", temperature=0)"
   ]
  },
  {
   "cell_type": "code",
   "execution_count": 20,
   "metadata": {},
   "outputs": [
    {
     "data": {
      "text/plain": [
       "[SystemMessagePromptTemplate(prompt=PromptTemplate(input_variables=[], template='You are a helpful assistant')),\n",
       " MessagesPlaceholder(variable_name='chat_history', optional=True),\n",
       " HumanMessagePromptTemplate(prompt=PromptTemplate(input_variables=['input'], template='{input}')),\n",
       " MessagesPlaceholder(variable_name='agent_scratchpad')]"
      ]
     },
     "execution_count": 20,
     "metadata": {},
     "output_type": "execute_result"
    }
   ],
   "source": [
    "from langchain import hub\n",
    "prompt=hub.pull(\"hwchase17/openai-functions-agent\")\n",
    "prompt.messages"
   ]
  },
  {
   "cell_type": "markdown",
   "metadata": {},
   "source": [
    "#### agents"
   ]
  },
  {
   "cell_type": "code",
   "execution_count": 21,
   "metadata": {},
   "outputs": [],
   "source": [
    "from langchain.agents import create_openai_tools_agent\n",
    "agent = create_openai_tools_agent(llm,tools,prompt)\n"
   ]
  },
  {
   "cell_type": "markdown",
   "metadata": {},
   "source": [
    "#### agent executer"
   ]
  },
  {
   "cell_type": "code",
   "execution_count": 22,
   "metadata": {},
   "outputs": [
    {
     "data": {
      "text/plain": [
       "AgentExecutor(verbose=True, agent=RunnableMultiActionAgent(runnable=RunnableAssign(mapper={\n",
       "  agent_scratchpad: RunnableLambda(lambda x: format_to_openai_tool_messages(x['intermediate_steps']))\n",
       "})\n",
       "| ChatPromptTemplate(input_variables=['agent_scratchpad', 'input'], input_types={'chat_history': typing.List[typing.Union[langchain_core.messages.ai.AIMessage, langchain_core.messages.human.HumanMessage, langchain_core.messages.chat.ChatMessage, langchain_core.messages.system.SystemMessage, langchain_core.messages.function.FunctionMessage, langchain_core.messages.tool.ToolMessage]], 'agent_scratchpad': typing.List[typing.Union[langchain_core.messages.ai.AIMessage, langchain_core.messages.human.HumanMessage, langchain_core.messages.chat.ChatMessage, langchain_core.messages.system.SystemMessage, langchain_core.messages.function.FunctionMessage, langchain_core.messages.tool.ToolMessage]]}, metadata={'lc_hub_owner': 'hwchase17', 'lc_hub_repo': 'openai-functions-agent', 'lc_hub_commit_hash': 'a1655024b06afbd95d17449f21316291e0726f13dcfaf990cc0d18087ad689a5'}, messages=[SystemMessagePromptTemplate(prompt=PromptTemplate(input_variables=[], template='You are a helpful assistant')), MessagesPlaceholder(variable_name='chat_history', optional=True), HumanMessagePromptTemplate(prompt=PromptTemplate(input_variables=['input'], template='{input}')), MessagesPlaceholder(variable_name='agent_scratchpad')])\n",
       "| RunnableBinding(bound=ChatOpenAI(client=<openai.resources.chat.completions.Completions object at 0x0000020B6BC9CCE0>, async_client=<openai.resources.chat.completions.AsyncCompletions object at 0x0000020B6BC7E3C0>, model_name='gpt-3.5-turbo-0125', temperature=0.0, openai_api_key=SecretStr('**********'), openai_proxy=''), kwargs={'tools': [{'type': 'function', 'function': {'name': 'wikipedia', 'description': 'A wrapper around Wikipedia. Useful for when you need to answer general questions about people, places, companies, facts, historical events, or other subjects. Input should be a search query.', 'parameters': {'properties': {'__arg1': {'title': '__arg1', 'type': 'string'}}, 'required': ['__arg1'], 'type': 'object'}}}, {'type': 'function', 'function': {'name': 'arxiv', 'description': 'A wrapper around Arxiv.org Useful for when you need to answer questions about Physics, Mathematics, Computer Science, Quantitative Biology, Quantitative Finance, Statistics, Electrical Engineering, and Economics from scientific articles on arxiv.org. Input should be a search query.', 'parameters': {'type': 'object', 'properties': {'query': {'description': 'search query to look up', 'type': 'string'}}, 'required': ['query']}}}, {'type': 'function', 'function': {'name': 'fool_search', 'description': 'Search about meaninng of the fool card. For any query about fool you must use this tool ', 'parameters': {'type': 'object', 'properties': {'query': {'description': 'query to look up in retriever', 'type': 'string'}}, 'required': ['query']}}}]})\n",
       "| OpenAIToolsAgentOutputParser(), input_keys_arg=[], return_keys_arg=[], stream_runnable=True), tools=[WikipediaQueryRun(api_wrapper=WikipediaAPIWrapper(wiki_client=<module 'wikipedia' from 'c:\\\\Users\\\\apurv\\\\Langchain\\\\.venv\\\\Lib\\\\site-packages\\\\wikipedia\\\\__init__.py'>, top_k_results=1, lang='en', load_all_available_meta=False, doc_content_chars_max=200)), ArxivQueryRun(api_wrapper=ArxivAPIWrapper(arxiv_search=<class 'arxiv.Search'>, arxiv_exceptions=(<class 'arxiv.ArxivError'>, <class 'arxiv.UnexpectedEmptyPageError'>, <class 'arxiv.HTTPError'>), top_k_results=1, ARXIV_MAX_QUERY_LENGTH=300, continue_on_failure=False, load_max_docs=100, load_all_available_meta=False, doc_content_chars_max=200, arxiv_result=<class 'arxiv.Result'>)), Tool(name='fool_search', description='Search about meaninng of the fool card. For any query about fool you must use this tool ', args_schema=<class 'langchain_core.tools.RetrieverInput'>, func=functools.partial(<function _get_relevant_documents at 0x0000020B75DAAAC0>, retriever=VectorStoreRetriever(tags=['FAISS', 'OpenAIEmbeddings'], vectorstore=<langchain_community.vectorstores.faiss.FAISS object at 0x0000020B7E9F8A10>), document_prompt=PromptTemplate(input_variables=['page_content'], template='{page_content}'), document_separator='\\n\\n'), coroutine=functools.partial(<function _aget_relevant_documents at 0x0000020B75DAAF20>, retriever=VectorStoreRetriever(tags=['FAISS', 'OpenAIEmbeddings'], vectorstore=<langchain_community.vectorstores.faiss.FAISS object at 0x0000020B7E9F8A10>), document_prompt=PromptTemplate(input_variables=['page_content'], template='{page_content}'), document_separator='\\n\\n'))])"
      ]
     },
     "execution_count": 22,
     "metadata": {},
     "output_type": "execute_result"
    }
   ],
   "source": [
    "from langchain.agents import AgentExecutor\n",
    "agent_executor = AgentExecutor(agent=agent, tools=tools,verbose=True)\n",
    "agent_executor"
   ]
  },
  {
   "cell_type": "markdown",
   "metadata": {},
   "source": [
    "from langhain"
   ]
  },
  {
   "cell_type": "code",
   "execution_count": 24,
   "metadata": {},
   "outputs": [
    {
     "name": "stdout",
     "output_type": "stream",
     "text": [
      "\n",
      "\n",
      "\u001b[1m> Entering new AgentExecutor chain...\u001b[0m\n",
      "\u001b[32;1m\u001b[1;3m\n",
      "Invoking: `fool_search` with `{'query': 'symbolisms'}`\n",
      "\n",
      "\n",
      "\u001b[0m\u001b[38;5;200m\u001b[1;3many device, anywhere life takes you150+ page Soul Meditations GuidebookPlus, Bonus Material:40-minute Fool’s Journey meditation + guidebook22 Creative Ways to Connect with the Major Arcana X  eBook: Tarot Card Meanings WorkbookCreate a deeply intuitive and personal connection to the Tarot cards with your very own Tarot Card Meanings Workbook. Here’s what you’ll find inside the workbook:Guidance for how to uncover personal meanings for each of the Tarot CardsWorksheets for each card, with space to record personal keywords, Tarot card symbolism, upright and reversed meanings, and interpretations for love, work, career, finance, well-being and spiritualityImages of the 78 Rider-Waite Tarot cards to deepen your understanding of their symbolismPlus, Bonus:Blank Tarot Card Keyword Chart to create your very own quick-reference guide X  eBook: The Ultimate Guide to Tarot Card MeaningsHere’s what you’ll find inside for every card in the deck:Images and detailed descriptionsComprehensive\n",
      "\n",
      "letting down your hair and dancing up on stage, you are dancing in your bedroom like no-one is watching. Look at how you can bring more play into your daily life, even if you start out by doing it in private.   Got questions? Or can't find what you’re looking for?   Contact Us EBOOKS + PRODUCTSThe Ultimate Guide to Tarot Card MeaningsIntuitive Tarot: 31 Days to Learn to Read Tarot Cards and Develop Your IntuitionBiddy Tarot PlannerBiddy Tarot CommunityBusiness CoachingCOURSES + TRAININGTarot 101Master the Tarot Card MeaningsRead Tarot With ConfidenceBiddy Tarot Certification Program21 Days to Start Getting Paid to Read TarotGrow Your Tarot Business OnlineRESOURCESTarot BasicsTarot Card MeaningsBlogPodcastFree Tarot ReadingsBiddy Tarot Certified Tarot ReadersBIDDY TAROTAboutCareersHelp CenterBiddy Tarot ReviewsOne Girl PartnershipDiversity PolicySponsorship & Gift PolicyFOLLOW US    Privacy and Terms.  © 2024 Biddy Tarot. All Rights Reserved. All prices in USD. Tarot card images\n",
      "\n",
      "loyalty and protection, that encourages him to charge forward and learn the lessons he came to learn. The mountains behind The Fool symbolize the challenges yet to come. They are forever present, but The Fool doesn’t care about them right now; he’s more focused on starting his expedition.NOTE: The Tarot card meaning description is based on the Rider Waite cards.Wish You Had A Tarot Card Meaning Cheat Sheet?Get Your FREE Tarot Card Meanings Reference GuideAnd Avoid Getting Stuck When Trying To Remember The Card Meanings   The Fool UprightThe Fool is a card of new beginnings, opportunity and potential. Just like the young man, you are at the outset of your journey, standing at the cliff‘s edge, and about to take your first step into the unknown. Even though you don’t know exactly where you are going, you are being called to commit yourself and follow your heart, no matter how crazy this leap of faith might seem to you. Now is a time when you need to trust where the Universe is taking\n",
      "\n",
      "catch you and escort you along the way. Take a chance and see what happens.The Fool Reversed The Fool Reversed suggests that you have conceived of a new project but aren’t ready to ‘birth’ it into the world just yet. You may worry that you are not fit or that you don’t have all the tools, skills and resources you need to make this project a success. Or perhaps you have a sense that the timing isn’t right. Something is holding you back, and you are preventing yourself from moving forward. You may choose to keep this new opportunity to yourself for now, or you might be ‘parking’ it until a better time.You may fear the unknown, wondering, ‘What am I getting myself into?’ As a result, you have come to a standstill, worried about taking any action where you don’t know the outcome. This often boils down to the need to control everything. Balance this out with knowing that the Universe has your back and you can take this step forward, even if you are unsure of exactly what will happen\u001b[0m\u001b[32;1m\u001b[1;3mThe Fool card in Tarot symbolizes new beginnings, opportunity, and potential. The young man depicted on the card is at the outset of his journey, standing at the cliff's edge, ready to take his first step into the unknown. The Fool represents taking a leap of faith, trusting where the Universe is leading you, and following your heart, even if it seems like a crazy decision.\n",
      "\n",
      "The loyal dog at The Fool's feet symbolizes protection and encouragement, urging him to move forward and learn the lessons he needs to learn. The mountains in the background represent the challenges that lie ahead, but The Fool is focused on the present moment and starting his expedition without worrying about what's to come.\n",
      "\n",
      "When The Fool card appears reversed, it suggests that you may have a new project or opportunity in mind but are not ready to bring it to fruition yet. You might feel unprepared, lacking the necessary skills or resources, or unsure about the timing. There could be a fear of the unknown or a need to control everything, leading to a standstill in moving forward.\n",
      "\n",
      "Overall, The Fool symbolizes taking risks, embracing the unknown, and trusting in the journey ahead, even when the path is uncertain.\u001b[0m\n",
      "\n",
      "\u001b[1m> Finished chain.\u001b[0m\n"
     ]
    },
    {
     "data": {
      "text/plain": [
       "{'input': 'Tell me about the symbolisms in the fool',\n",
       " 'output': \"The Fool card in Tarot symbolizes new beginnings, opportunity, and potential. The young man depicted on the card is at the outset of his journey, standing at the cliff's edge, ready to take his first step into the unknown. The Fool represents taking a leap of faith, trusting where the Universe is leading you, and following your heart, even if it seems like a crazy decision.\\n\\nThe loyal dog at The Fool's feet symbolizes protection and encouragement, urging him to move forward and learn the lessons he needs to learn. The mountains in the background represent the challenges that lie ahead, but The Fool is focused on the present moment and starting his expedition without worrying about what's to come.\\n\\nWhen The Fool card appears reversed, it suggests that you may have a new project or opportunity in mind but are not ready to bring it to fruition yet. You might feel unprepared, lacking the necessary skills or resources, or unsure about the timing. There could be a fear of the unknown or a need to control everything, leading to a standstill in moving forward.\\n\\nOverall, The Fool symbolizes taking risks, embracing the unknown, and trusting in the journey ahead, even when the path is uncertain.\"}"
      ]
     },
     "execution_count": 24,
     "metadata": {},
     "output_type": "execute_result"
    }
   ],
   "source": [
    "agent_executor.invoke({\"input\": \"Tell me about the symbolisms in the fool\"})"
   ]
  },
  {
   "cell_type": "code",
   "execution_count": null,
   "metadata": {},
   "outputs": [],
   "source": []
  },
  {
   "cell_type": "code",
   "execution_count": 27,
   "metadata": {},
   "outputs": [
    {
     "name": "stdout",
     "output_type": "stream",
     "text": [
      "\n",
      "\n",
      "\u001b[1m> Entering new AgentExecutor chain...\u001b[0m\n",
      "\u001b[32;1m\u001b[1;3m\n",
      "Invoking: `fool_search` with `{'query': 'symbolisms'}`\n",
      "\n",
      "\n",
      "\u001b[0m\u001b[38;5;200m\u001b[1;3many device, anywhere life takes you150+ page Soul Meditations GuidebookPlus, Bonus Material:40-minute Fool’s Journey meditation + guidebook22 Creative Ways to Connect with the Major Arcana X  eBook: Tarot Card Meanings WorkbookCreate a deeply intuitive and personal connection to the Tarot cards with your very own Tarot Card Meanings Workbook. Here’s what you’ll find inside the workbook:Guidance for how to uncover personal meanings for each of the Tarot CardsWorksheets for each card, with space to record personal keywords, Tarot card symbolism, upright and reversed meanings, and interpretations for love, work, career, finance, well-being and spiritualityImages of the 78 Rider-Waite Tarot cards to deepen your understanding of their symbolismPlus, Bonus:Blank Tarot Card Keyword Chart to create your very own quick-reference guide X  eBook: The Ultimate Guide to Tarot Card MeaningsHere’s what you’ll find inside for every card in the deck:Images and detailed descriptionsComprehensive\n",
      "\n",
      "letting down your hair and dancing up on stage, you are dancing in your bedroom like no-one is watching. Look at how you can bring more play into your daily life, even if you start out by doing it in private.   Got questions? Or can't find what you’re looking for?   Contact Us EBOOKS + PRODUCTSThe Ultimate Guide to Tarot Card MeaningsIntuitive Tarot: 31 Days to Learn to Read Tarot Cards and Develop Your IntuitionBiddy Tarot PlannerBiddy Tarot CommunityBusiness CoachingCOURSES + TRAININGTarot 101Master the Tarot Card MeaningsRead Tarot With ConfidenceBiddy Tarot Certification Program21 Days to Start Getting Paid to Read TarotGrow Your Tarot Business OnlineRESOURCESTarot BasicsTarot Card MeaningsBlogPodcastFree Tarot ReadingsBiddy Tarot Certified Tarot ReadersBIDDY TAROTAboutCareersHelp CenterBiddy Tarot ReviewsOne Girl PartnershipDiversity PolicySponsorship & Gift PolicyFOLLOW US    Privacy and Terms.  © 2024 Biddy Tarot. All Rights Reserved. All prices in USD. Tarot card images\n",
      "\n",
      "loyalty and protection, that encourages him to charge forward and learn the lessons he came to learn. The mountains behind The Fool symbolize the challenges yet to come. They are forever present, but The Fool doesn’t care about them right now; he’s more focused on starting his expedition.NOTE: The Tarot card meaning description is based on the Rider Waite cards.Wish You Had A Tarot Card Meaning Cheat Sheet?Get Your FREE Tarot Card Meanings Reference GuideAnd Avoid Getting Stuck When Trying To Remember The Card Meanings   The Fool UprightThe Fool is a card of new beginnings, opportunity and potential. Just like the young man, you are at the outset of your journey, standing at the cliff‘s edge, and about to take your first step into the unknown. Even though you don’t know exactly where you are going, you are being called to commit yourself and follow your heart, no matter how crazy this leap of faith might seem to you. Now is a time when you need to trust where the Universe is taking\n",
      "\n",
      "catch you and escort you along the way. Take a chance and see what happens.The Fool Reversed The Fool Reversed suggests that you have conceived of a new project but aren’t ready to ‘birth’ it into the world just yet. You may worry that you are not fit or that you don’t have all the tools, skills and resources you need to make this project a success. Or perhaps you have a sense that the timing isn’t right. Something is holding you back, and you are preventing yourself from moving forward. You may choose to keep this new opportunity to yourself for now, or you might be ‘parking’ it until a better time.You may fear the unknown, wondering, ‘What am I getting myself into?’ As a result, you have come to a standstill, worried about taking any action where you don’t know the outcome. This often boils down to the need to control everything. Balance this out with knowing that the Universe has your back and you can take this step forward, even if you are unsure of exactly what will happen\u001b[0m\u001b[32;1m\u001b[1;3mThe Fool card in Tarot symbolizes new beginnings, opportunity, and potential. The young man depicted on the card is at the outset of his journey, standing at the cliff's edge, ready to take his first step into the unknown. The dog at his heels represents loyalty and protection, encouraging him to move forward and learn the lessons he needs to learn. The mountains in the background symbolize the challenges that lie ahead, but The Fool is focused on starting his expedition without worrying about them.\n",
      "\n",
      "In the upright position, The Fool signifies a time of new beginnings where you are called to commit yourself and follow your heart, even if the leap of faith seems daunting. It's a card of trust in the Universe and taking a chance on the unknown.\n",
      "\n",
      "In the reversed position, The Fool suggests that you may have a new project or opportunity but are hesitant to move forward. You might feel unprepared, lack confidence, or fear the unknown outcome. This hesitation can lead to a standstill, where you are holding back from taking action. It's a reminder to trust in the Universe and take the leap, even if the path ahead is uncertain.\n",
      "\n",
      "Overall, The Fool represents embracing new experiences, trusting in the journey, and being open to the unknown possibilities that lie ahead.\u001b[0m\n",
      "\n",
      "\u001b[1m> Finished chain.\u001b[0m\n"
     ]
    }
   ],
   "source": [
    "response = agent_executor.invoke({\"input\": \"Tell me about the symbolisms in the fool\"})"
   ]
  },
  {
   "cell_type": "code",
   "execution_count": 28,
   "metadata": {},
   "outputs": [
    {
     "data": {
      "text/plain": [
       "\"The Fool card in Tarot symbolizes new beginnings, opportunity, and potential. The young man depicted on the card is at the outset of his journey, standing at the cliff's edge, ready to take his first step into the unknown. The dog at his heels represents loyalty and protection, encouraging him to move forward and learn the lessons he needs to learn. The mountains in the background symbolize the challenges that lie ahead, but The Fool is focused on starting his expedition without worrying about them.\\n\\nIn the upright position, The Fool signifies a time of new beginnings where you are called to commit yourself and follow your heart, even if the leap of faith seems daunting. It's a card of trust in the Universe and taking a chance on the unknown.\\n\\nIn the reversed position, The Fool suggests that you may have a new project or opportunity but are hesitant to move forward. You might feel unprepared, lack confidence, or fear the unknown outcome. This hesitation can lead to a standstill, where you are holding back from taking action. It's a reminder to trust in the Universe and take the leap, even if the path ahead is uncertain.\\n\\nOverall, The Fool represents embracing new experiences, trusting in the journey, and being open to the unknown possibilities that lie ahead.\""
      ]
     },
     "execution_count": 28,
     "metadata": {},
     "output_type": "execute_result"
    }
   ],
   "source": [
    "response['output']"
   ]
  },
  {
   "cell_type": "code",
   "execution_count": null,
   "metadata": {},
   "outputs": [],
   "source": []
  }
 ],
 "metadata": {
  "kernelspec": {
   "display_name": ".venv",
   "language": "python",
   "name": "python3"
  },
  "language_info": {
   "codemirror_mode": {
    "name": "ipython",
    "version": 3
   },
   "file_extension": ".py",
   "mimetype": "text/x-python",
   "name": "python",
   "nbconvert_exporter": "python",
   "pygments_lexer": "ipython3",
   "version": "3.12.3"
  }
 },
 "nbformat": 4,
 "nbformat_minor": 2
}
